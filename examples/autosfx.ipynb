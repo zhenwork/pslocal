{
 "cells": [
  {
   "cell_type": "code",
   "execution_count": 1,
   "metadata": {},
   "outputs": [
    {
     "name": "stdout",
     "output_type": "stream",
     "text": [
      "!! No cbf package installed.\n"
     ]
    }
   ],
   "source": [
    "import os,sys \n",
    "if \"/reg/neh/home/zhensu/Develop/pslocal\" not in sys.path:\n",
    "    sys.path.append(\"/reg/neh/home/zhensu/Develop/pslocal\")\n",
    "from front.actionAgent import AutoSFXSingle"
   ]
  },
  {
   "cell_type": "code",
   "execution_count": 2,
   "metadata": {},
   "outputs": [],
   "source": [
    "Auto = AutoSFXSingle(experimentName=\"cxic0415\", runNumber=100, detectorName=\"DscCsPad\",\\\n",
    "            pdbFile=\"/reg/d/psdm/cxi/cxitut13/res/autosfx/2019-01-27/cxic0415/strep_more.cell\")"
   ]
  },
  {
   "cell_type": "markdown",
   "metadata": {},
   "source": [
    "## Step 1: Set up"
   ]
  },
  {
   "cell_type": "code",
   "execution_count": 3,
   "metadata": {
    "scrolled": true
   },
   "outputs": [
    {
     "name": "stdout",
     "output_type": "stream",
     "text": [
      "starting jobs\n",
      "submitted\n",
      "running\n",
      "python /reg/neh/home5/zhensu/Develop/pslocal/back/run-01-expSetup.py  --exp cxic0415 --run 100 --det DscCsPadcomplete\n",
      "done\n"
     ]
    },
    {
     "data": {
      "text/plain": [
       "True"
      ]
     },
     "execution_count": 3,
     "metadata": {},
     "output_type": "execute_result"
    }
   ],
   "source": [
    "Auto.monitor(Auto.runSetup(), sleepTime=3e3)"
   ]
  },
  {
   "cell_type": "markdown",
   "metadata": {},
   "source": [
    "## Step 2: Powder Sum"
   ]
  },
  {
   "cell_type": "code",
   "execution_count": 4,
   "metadata": {},
   "outputs": [
    {
     "name": "stdout",
     "output_type": "stream",
     "text": [
      "starting jobs\n",
      "submitted\n",
      "running\n",
      "done\n"
     ]
    },
    {
     "data": {
      "text/plain": [
       "True"
      ]
     },
     "execution_count": 4,
     "metadata": {},
     "output_type": "execute_result"
    }
   ],
   "source": [
    "Auto.monitor(Auto.runPowderSum(), sleepTime=3e3)"
   ]
  },
  {
   "cell_type": "markdown",
   "metadata": {},
   "source": [
    "## Step 3: Finder Center"
   ]
  },
  {
   "cell_type": "code",
   "execution_count": 5,
   "metadata": {
    "scrolled": true
   },
   "outputs": [
    {
     "name": "stdout",
     "output_type": "stream",
     "text": [
      "starting jobs\n",
      "submitted\n",
      "running\n",
      "complete\n",
      "done\n"
     ]
    },
    {
     "data": {
      "text/plain": [
       "True"
      ]
     },
     "execution_count": 5,
     "metadata": {},
     "output_type": "execute_result"
    }
   ],
   "source": [
    "Auto.monitor(Auto.runFinderCenter(), sleepTime=3e3)"
   ]
  },
  {
   "cell_type": "markdown",
   "metadata": {},
   "source": [
    "## Step 4: Peak Finding"
   ]
  },
  {
   "cell_type": "code",
   "execution_count": 6,
   "metadata": {},
   "outputs": [
    {
     "name": "stdout",
     "output_type": "stream",
     "text": [
      "starting jobs\n",
      "submitted\n",
      "running\n",
      "bsub -q psanaq -n 32 -o /reg/d/psdm/cxi/cxic0415/scratch/zhensu/automation/r0100/.%J.log -J PeakFinder-00004 mpirun findPeaks  -e cxic0415 -r 100 -d DscCsPad --outDir /reg/d/psdm/cxi/cxic0415/scratch/zhensu/automation/r0100 --algorithm 2 --alg_npix_min 2 --alg_npix_max 30 --alg_amax_thr 300 --alg_atot_thr 600 --alg_son_min 9 --alg1_thr_low 0.0 --alg1_thr_high 0.0 --alg1_rank 3 --alg1_radius 3 --alg1_dr 2 --psanaMask_on True --psanaMask_calib True --psanaMask_status True --psanaMask_edges True --psanaMask_central True --psanaMask_unbond True --psanaMask_unbondnrs True --mask /reg/d/psdm/cxi/cxic0415/scratch/zhensu/automation/r0100/staticMask.h5 --noe 2000 --clen DscCsPad_z --coffset 0.5886984 --minPeaks 15 --maxPeaks 2048 --minRes -1 --sample sample --instrument CXI --pixelSize 0.00010992 --auto False --detectorDistance 0.138695 --access ana --tag TesTdone\n"
     ]
    },
    {
     "data": {
      "text/plain": [
       "True"
      ]
     },
     "execution_count": 6,
     "metadata": {},
     "output_type": "execute_result"
    }
   ],
   "source": [
    "Auto.monitor(Auto.runPeakFinder(), sleepTime=3e3)"
   ]
  },
  {
   "cell_type": "markdown",
   "metadata": {},
   "source": [
    "## Step 5: Indexing"
   ]
  },
  {
   "cell_type": "code",
   "execution_count": 7,
   "metadata": {},
   "outputs": [
    {
     "name": "stdout",
     "output_type": "stream",
     "text": [
      "starting jobs\n",
      "submitted\n",
      "running\n",
      "python /reg/neh/home5/zhensu/Develop/pslocal/back/run-05-indexer.py  --exp cxic0415 --run 100 --det DscCsPad --pdb /reg/d/psdm/cxi/cxitut13/res/autosfx/2019-01-27/cxic0415/strep_more.cell --pkTag TesT --distance 0 --tag d-000.0-00005cxic0415_100*d-000.0-00005done\n"
     ]
    },
    {
     "data": {
      "text/plain": [
       "True"
      ]
     },
     "execution_count": 7,
     "metadata": {},
     "output_type": "execute_result"
    }
   ],
   "source": [
    "Auto.monitor(Auto.runIndexer(detectorDistance=0), sleepTime=3e3)"
   ]
  },
  {
   "cell_type": "markdown",
   "metadata": {},
   "source": [
    "## Step 6: Scoring the indexing result"
   ]
  },
  {
   "cell_type": "code",
   "execution_count": 5,
   "metadata": {},
   "outputs": [
    {
     "name": "stdout",
     "output_type": "stream",
     "text": [
      "{'stream': '/reg/d/psdm/cxi/cxic0415/scratch/zhensu/automation/r0100/cxic0415_0100_d-000.0-00001.stream', 'runNumber': 100, 'detectorName': 'DscCsPad', 'mode': 'local', 'pdb': 'True', 'experimentName': 'cxic0415'}\n",
      "starting jobs\n",
      "## evaluating index['/reg/d/psdm/cxi/cxic0415/scratch/zhensu/automation/r0100/cxic0415_0100_d-000.0-00001.stream', '']/reg/d/psdm/cxi/cxic0415/scratch/zhensu/automation/r0100/cxic0415_0100_d-000.0-00001.stream##### with pdb?  True\n",
      "submitted\n",
      "running\n",
      "##### numHits :  615\n",
      "##### numIndex:  304\n",
      "##### skewness:  [ 1.472 -1.184  0.74   0.639 -0.558 -0.876]\n",
      "##### kurtosis:  [ 4.393  6.788  4.681  2.763  0.839  3.169]\n",
      "##### score:  24.3063926029 \n",
      "\n",
      "\n",
      "complete\n",
      "done\n"
     ]
    },
    {
     "data": {
      "text/plain": [
       "True"
      ]
     },
     "execution_count": 5,
     "metadata": {},
     "output_type": "execute_result"
    }
   ],
   "source": [
    "Auto.monitor(Auto.runEvaluateStream(), sleepTime=3e3)"
   ]
  },
  {
   "cell_type": "markdown",
   "metadata": {},
   "source": [
    "## Step 7: Find the niggli unit cell"
   ]
  },
  {
   "cell_type": "code",
   "execution_count": 6,
   "metadata": {},
   "outputs": [
    {
     "name": "stdout",
     "output_type": "stream",
     "text": [
      "starting jobs\n",
      "submitted\n",
      "running\n",
      "source /reg/g/cctbx/conda_build/build/setpaths.sh && python /reg/neh/home5/zhensu/Develop/pslocal/back/run-07-findNiggli.py  --stream /reg/d/psdm/cxi/cxic0415/scratch/zhensu/automation/r0100/cxic0415_0100_d-000.0-00001.stream --pdb True##### streamfile:  /reg/d/psdm/cxi/cxic0415/scratch/zhensu/automation/r0100/cxic0415_0100_d-000.0-00001.stream\n",
      "##### with pdb?  True\n",
      "##### numIndex/numHits:  304 / 615\n",
      "##### average cell:  [[  51.219   99.137   53.438   90.037  112.598   89.977]]\n",
      "##### niggli cell:  [  51.219   53.438   99.137   90.      90.     112.598]\n",
      "complete\n",
      "done\n"
     ]
    },
    {
     "data": {
      "text/plain": [
       "True"
      ]
     },
     "execution_count": 6,
     "metadata": {},
     "output_type": "execute_result"
    }
   ],
   "source": [
    "Auto.monitor(Auto.runFindNiggli(), sleepTime=3e3)"
   ]
  },
  {
   "cell_type": "markdown",
   "metadata": {},
   "source": [
    "## [Auto] From start to end "
   ]
  },
  {
   "cell_type": "code",
   "execution_count": 2,
   "metadata": {},
   "outputs": [],
   "source": [
    "Auto = AutoSFXSingle(experimentName=\"cxic0415\", runNumber=100, detectorName=\"DscCsPad\",\\\n",
    "            pdbFile=\"/reg/d/psdm/cxi/cxitut13/res/autosfx/2019-01-27/cxic0415/strep_more.cell\")"
   ]
  },
  {
   "cell_type": "code",
   "execution_count": 3,
   "metadata": {},
   "outputs": [
    {
     "name": "stdout",
     "output_type": "stream",
     "text": [
      "starting jobs\n",
      "submitted\n",
      "running\n",
      "python /reg/neh/home5/zhensu/Develop/pslocal/back/run-01-expSetup.py  --exp cxic0415 --run 100 --det DscCsPadcomplete\n",
      "done\n",
      "starting jobs\n",
      "submitted\n",
      "running\n",
      "done\n",
      "starting jobs\n",
      "submitted\n",
      "running\n",
      "complete\n",
      "done\n",
      "starting jobs\n",
      "submitted\n",
      "running\n",
      "bsub -q psanaq -n 32 -o /reg/d/psdm/cxi/cxic0415/scratch/zhensu/automation/r0100/.%J.log -J PeakFinder-00004 mpirun findPeaks  -e cxic0415 -r 100 -d DscCsPad --outDir /reg/d/psdm/cxi/cxic0415/scratch/zhensu/automation/r0100 --algorithm 2 --alg_npix_min 2 --alg_npix_max 30 --alg_amax_thr 300 --alg_atot_thr 600 --alg_son_min 9 --alg1_thr_low 0.0 --alg1_thr_high 0.0 --alg1_rank 3 --alg1_radius 3 --alg1_dr 2 --psanaMask_on True --psanaMask_calib True --psanaMask_status True --psanaMask_edges True --psanaMask_central True --psanaMask_unbond True --psanaMask_unbondnrs True --mask /reg/d/psdm/cxi/cxic0415/scratch/zhensu/automation/r0100/staticMask.h5 --noe 2000 --clen DscCsPad_z --coffset 0.5886984 --minPeaks 15 --maxPeaks 2048 --minRes -1 --sample sample --instrument CXI --pixelSize 0.00010992 --auto False --detectorDistance 0.138695 --access ana --tag TesTdone\n",
      "starting jobs\n",
      "submitted\n",
      "running\n",
      "python /reg/neh/home5/zhensu/Develop/pslocal/back/run-05-indexer.py  --exp cxic0415 --run 100 --det DscCsPad --pdb /reg/d/psdm/cxi/cxitut13/res/autosfx/2019-01-27/cxic0415/strep_more.cell --pkTag TesT --distance 0 --tag d-000.0-00005cxic0415_100*d-000.0-00005done\n",
      "{'stream': '/reg/d/psdm/cxi/cxic0415/scratch/zhensu/automation/r0100/cxic0415_0100_d-000.0-00005.stream', 'runNumber': 100, 'detectorName': 'DscCsPad', 'mode': 'local', 'pdb': 'True', 'experimentName': 'cxic0415'}\n",
      "starting jobs\n",
      "## evaluating index['/reg/d/psdm/cxi/cxic0415/scratch/zhensu/automation/r0100/cxic0415_0100_d-000.0-00005.stream', '']/reg/d/psdm/cxi/cxic0415/scratch/zhensu/automation/r0100/cxic0415_0100_d-000.0-00005.stream##### with pdb?  True\n",
      "submitted\n",
      "running\n",
      "##### numHits :  615\n",
      "##### numIndex:  304\n",
      "##### skewness:  [ 1.472 -1.184  0.74   0.639 -0.558 -0.876]\n",
      "##### kurtosis:  [ 4.393  6.788  4.681  2.763  0.839  3.169]\n",
      "##### score:  24.3063926029 \n",
      "\n",
      "\n",
      "complete\n",
      "done\n",
      "starting jobs\n",
      "submitted\n",
      "running\n",
      "source /reg/g/cctbx/conda_build/build/setpaths.sh && python /reg/neh/home5/zhensu/Develop/pslocal/back/run-07-findNiggli.py  --stream /reg/d/psdm/cxi/cxic0415/scratch/zhensu/automation/r0100/cxic0415_0100_d-000.0-00005.stream --pdb True##### streamfile:  /reg/d/psdm/cxi/cxic0415/scratch/zhensu/automation/r0100/cxic0415_0100_d-000.0-00005.stream\n",
      "##### with pdb?  True\n",
      "##### numIndex/numHits:  304 / 615\n",
      "##### average cell:  [[  51.219   99.137   53.438   90.037  112.598   89.977]]\n",
      "##### niggli cell:  [  51.219   53.438   99.137   90.      90.     112.598]\n",
      "complete\n",
      "done\n"
     ]
    },
    {
     "data": {
      "text/plain": [
       "True"
      ]
     },
     "execution_count": 3,
     "metadata": {},
     "output_type": "execute_result"
    }
   ],
   "source": [
    "Auto.start2end()"
   ]
  },
  {
   "cell_type": "code",
   "execution_count": null,
   "metadata": {},
   "outputs": [],
   "source": []
  }
 ],
 "metadata": {
  "kernelspec": {
   "display_name": "Python 2",
   "language": "python",
   "name": "python2"
  },
  "language_info": {
   "codemirror_mode": {
    "name": "ipython",
    "version": 2
   },
   "file_extension": ".py",
   "mimetype": "text/x-python",
   "name": "python",
   "nbconvert_exporter": "python",
   "pygments_lexer": "ipython2",
   "version": "2.7.15"
  }
 },
 "nbformat": 4,
 "nbformat_minor": 2
}
